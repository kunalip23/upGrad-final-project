{
 "cells": [
  {
   "cell_type": "code",
   "execution_count": null,
   "id": "70747a7e",
   "metadata": {},
   "outputs": [],
   "source": [
    "# 1.Importing libraries & Loading dataset\n"
   ]
  },
  {
   "cell_type": "code",
   "execution_count": null,
   "id": "7237c48a",
   "metadata": {},
   "outputs": [],
   "source": [
    "import pandas as pd\n",
    "import numpy as np\n",
    "import matplotlib.pyplot as plt\n",
    "import seaborn as sns\n",
    "from sklearn.model_selection import train_test_split\n",
    "from sklearn.ensemble import RandomForestClassifier\n",
    "from sklearn.metrics import accuracy_score, classification_report\n",
    "from sklearn.model_selection import GridSearchCV\n",
    "from sklearn.preprocessing import StandardScaler\n",
    "from sklearn.pipeline import Pipeline\n",
    "from sklearn.metrics import accuracy_score, classification_report, confusion_matrix\n",
    "import joblib"
   ]
  },
  {
   "cell_type": "code",
   "execution_count": null,
   "id": "fd82d2ae",
   "metadata": {},
   "outputs": [],
   "source": [
    "# Load the dataset\n",
    "Anoma_data = pd.read_csv(\"C:/Users/admin/Downloads/Anoma_data.csv\")\n"
   ]
  },
  {
   "cell_type": "code",
   "execution_count": null,
   "id": "124cda09",
   "metadata": {},
   "outputs": [],
   "source": [
    "#2. Exploratory Data Analysis (EDA)"
   ]
  },
  {
   "cell_type": "code",
   "execution_count": null,
   "id": "f28b1d44",
   "metadata": {},
   "outputs": [],
   "source": [
    "# Display basic statistics\n",
    "print(Anoma_data.describe())\n",
    "\n",
    "# Check for missing values\n",
    "print(Anoma_data.isnull().sum())\n",
    "\n",
    "# Visualize data distribution\n",
    "sns.countplot(Anoma_data['y'])\n",
    "plt.show()\n",
    "\n",
    "# Explore relationships between predictors and target variable\n",
    "sns.pairplot(Anoma_data, hue='y')\n",
    "plt.show()\n"
   ]
  },
  {
   "cell_type": "code",
   "execution_count": null,
   "id": "464f1de0",
   "metadata": {},
   "outputs": [],
   "source": [
    "#3. Data Cleaning"
   ]
  },
  {
   "cell_type": "code",
   "execution_count": null,
   "id": "795781d8",
   "metadata": {},
   "outputs": [],
   "source": [
    "# Handle missing values\n",
    "Anoma_data.fillna(Anoma_data.mean(), inplace=True)\n",
    "\n",
    "# Handle outliers (you can use various techniques)\n",
    "# For example, using Z-score\n",
    "from scipy.stats import zscore\n",
    "z_scores = zscore(Anoma_data.drop('y', axis=1))\n",
    "data_no_outliers = Anoma_data[(z_scores < 3).all(axis=1)]\n",
    "\n",
    "# Check the effect on the dataset\n",
    "print(\"Original data shape:\", Anoma_data.shape)\n",
    "print(\"Data shape after handling outliers:\", data_no_outliers.shape)\n",
    "\n"
   ]
  },
  {
   "cell_type": "code",
   "execution_count": null,
   "id": "33c836bb",
   "metadata": {},
   "outputs": [],
   "source": [
    "#4.Feature Engineering"
   ]
  },
  {
   "cell_type": "code",
   "execution_count": null,
   "id": "79dee3b9",
   "metadata": {},
   "outputs": [],
   "source": [
    "# Convert date column to datetime type\n",
    "Anoma_data['date'] = pd.to_datetime(data['date'])\n",
    "\n",
    "# Extract features from date (if needed)\n",
    "Anoma_data['day'] = Anoma_data['date'].dt.day\n",
    "Anoma_data['month'] = Anoma_data['date'].dt.month\n",
    "Anoma_data['year'] = Anoma_data['date'].dt.year\n",
    "\n",
    "# Drop unnecessary columns\n",
    "Anoma_data.drop(['date'], axis=1, inplace=True)\n"
   ]
  },
  {
   "cell_type": "code",
   "execution_count": null,
   "id": "c88c71ef",
   "metadata": {},
   "outputs": [],
   "source": [
    "#5. Train/Test Split"
   ]
  },
  {
   "cell_type": "code",
   "execution_count": null,
   "id": "95ce9518",
   "metadata": {},
   "outputs": [],
   "source": [
    "# Split data into features and target variable\n",
    "X = Anoma_data.drop('y', axis=1)\n",
    "y = Anoma_data['y']\n",
    "\n",
    "# Split the data into training and testing sets\n",
    "X_train, X_test, y_train, y_test = train_test_split(X, y, test_size=0.2, random_state=42)\n"
   ]
  },
  {
   "cell_type": "code",
   "execution_count": null,
   "id": "7c9d0928",
   "metadata": {},
   "outputs": [],
   "source": [
    "#6. Model Selection, Training, and Assessment"
   ]
  },
  {
   "cell_type": "code",
   "execution_count": null,
   "id": "3c2b6035",
   "metadata": {},
   "outputs": [],
   "source": [
    "# Choose a model (Random Forest as an example)\n",
    "model = RandomForestClassifier(random_state=42)\n",
    "\n",
    "# Train the model\n",
    "model.fit(X_train, y_train)\n",
    "\n",
    "# Make predictions\n",
    "y_pred = model.predict(X_test)\n",
    "\n",
    "# Evaluate the model\n",
    "accuracy = accuracy_score(y_test, y_pred)\n",
    "print(\"Accuracy:\", accuracy)\n",
    "\n",
    "# Classification Report\n",
    "print(\"Classification Report:\\n\", classification_report(y_test, y_pred))\n",
    "\n",
    "# Confusion Matrix\n",
    "conf_matrix = confusion_matrix(y_test, y_pred)\n",
    "sns.heatmap(conf_matrix, annot=True, fmt='d')\n",
    "plt.show()\n",
    "\n"
   ]
  },
  {
   "cell_type": "code",
   "execution_count": null,
   "id": "193ace58",
   "metadata": {},
   "outputs": [],
   "source": [
    "#7. Hyperparameter Tuning"
   ]
  },
  {
   "cell_type": "code",
   "execution_count": null,
   "id": "8ea27d36",
   "metadata": {},
   "outputs": [],
   "source": [
    "# Hyperparameter tuning using GridSearchCV\n",
    "param_grid = {\n",
    "    'n_estimators': [50, 100, 150],\n",
    "    'max_depth': [None, 10, 20],\n",
    "    'min_samples_split': [2, 5, 10],\n",
    "}\n",
    "\n",
    "grid_search = GridSearchCV(RandomForestClassifier(random_state=42), param_grid, cv=5)\n",
    "grid_search.fit(X_train, y_train)\n",
    "\n",
    "# Get the best parameters\n",
    "best_params = grid_search.best_params_\n",
    "print(\"Best Parameters:\", best_params)\n",
    "\n",
    "# Retrain the model with the best parameters\n",
    "best_model = grid_search.best_estimator_\n",
    "best_model.fit(X_train, y_train)\n"
   ]
  },
  {
   "cell_type": "code",
   "execution_count": null,
   "id": "cab0b4a9",
   "metadata": {},
   "outputs": [],
   "source": [
    "#8. Model Validation"
   ]
  },
  {
   "cell_type": "code",
   "execution_count": null,
   "id": "05fdde8b",
   "metadata": {},
   "outputs": [],
   "source": [
    "# Validate the model on unseen data\n",
    "y_val_pred = best_model.predict(X_test)\n",
    "\n",
    "# Evaluate the performance\n",
    "val_accuracy = accuracy_score(y_test, y_val_pred)\n",
    "print(\"Validation Accuracy:\", val_accuracy)\n"
   ]
  },
  {
   "cell_type": "code",
   "execution_count": null,
   "id": "d082e89a",
   "metadata": {},
   "outputs": [],
   "source": [
    "# 9. Model Deployment Plan"
   ]
  },
  {
   "cell_type": "code",
   "execution_count": null,
   "id": "acc653ef",
   "metadata": {},
   "outputs": [],
   "source": [
    "# Save the model using joblib or pickle\n",
    "joblib.dump(best_model, 'predictive_maintenance_model.joblib')"
   ]
  },
  {
   "cell_type": "code",
   "execution_count": null,
   "id": "97bc7088",
   "metadata": {},
   "outputs": [],
   "source": [
    "# 10. Success Metrics"
   ]
  },
  {
   "cell_type": "code",
   "execution_count": null,
   "id": "2fde2511",
   "metadata": {},
   "outputs": [],
   "source": [
    "# Evaluate the model on test data\n",
    "y_test_pred = best_model.predict(X_test)\n",
    "test_accuracy = accuracy_score(y_test, y_test_pred)\n",
    "print(\"Test Accuracy:\", test_accuracy)\n",
    "\n",
    "# Hyperparameter tuning details\n",
    "print(\"Best Hyperparameters:\", best_params)\n",
    "\n",
    "# Model Validation on Unseen Data\n",
    "y_val_pred = best_model.predict(X_test)\n",
    "val_accuracy = accuracy_score(y_test, y_val_pred)\n",
    "print(\"Validation Accuracy:\", val_accuracy)\n"
   ]
  }
 ],
 "metadata": {
  "kernelspec": {
   "display_name": "Python 3 (ipykernel)",
   "language": "python",
   "name": "python3"
  },
  "language_info": {
   "codemirror_mode": {
    "name": "ipython",
    "version": 3
   },
   "file_extension": ".py",
   "mimetype": "text/x-python",
   "name": "python",
   "nbconvert_exporter": "python",
   "pygments_lexer": "ipython3",
   "version": "3.11.4"
  }
 },
 "nbformat": 4,
 "nbformat_minor": 5
}
